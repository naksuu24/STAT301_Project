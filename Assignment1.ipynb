{
 "cells": [
  {
   "cell_type": "markdown",
   "id": "26f7a16a",
   "metadata": {},
   "source": [
    "# Assignment 1: Data Description & Exploratory Data Analysis\n",
    "\n",
    "### Group 35: Prasojo, Naufal\n",
    "\n",
    "### Section 1: Data Description\n",
    "\n",
    "**1.1 Data Summary**\n",
    "- **Dataset Name:** Airbnb Prices in European Cities\n",
    "- **Source:** Kaggle dataset by The Devastator (2021). Available at\n",
    "https://www.kaggle.com/datasets/thedevastator/airbnb-prices-in-european-cities?utm_source=chatgpt.com\n",
    "- **License:** CC BY-NC 4.0 (Attribution-NonCommercial).\n",
    "- **Data Collection:** Listings were web-scraped from Airbnb for 10 European cities (Amsterdam, Athens, Barcelona, Berlin, Budapest, Lisbon, London, Paris, Rome, Vienna), but for this assignment we only use Athens data.\n",
    "     - Each city has two files (weekday and weekend) capturing snapshot prices for 2-night stays for two guests.\n",
    "     - Approx. 2627~2653 observations (rows) and 19 variables (columns).\n"
   ]
  },
  {
   "cell_type": "markdown",
   "id": "6d76b9db",
   "metadata": {},
   "source": [
    "\n",
    "**Variable Description**\n",
    "\n",
    "| Variable Name                        | Type                | Description                                                         |\n",
    "| :----------------------------------- | :------------------ | :------------------------------------------------------------------ |\n",
    "| `realSum`                            | Numeric             | Total price (in euros) for the stay.                                |\n",
    "| `room_type`                          | Categorical         | Type of accommodation (Entire home/apt, Private room, Shared room). |\n",
    "| `room_shared`                        | Boolean             | 1 if room is shared; 0 otherwise.                                   |\n",
    "| `room_private`                       | Boolean             | 1 if room is private; 0 otherwise.                                  |\n",
    "| `person_capacity`                    | Integer             | Maximum number of guests.                                           |\n",
    "| `superhost`                          | Boolean             | 1 if host is a Superhost status; 0 otherwise.                       |\n",
    "| `multi`                              | Boolean             | 1 if host owns 2–4 listings; 0 otherwise.                           |\n",
    "| `biz`                                | Boolean             | 1 if host is a business (>4 listings).                              |\n",
    "| `cleanliness_rating`                 | Numeric (1–10)      | Guest-reported cleanliness rating.                                  |\n",
    "| `guest_satisfaction_overall`         | Numeric (1–100)     | Overall guest satisfaction score.                                   |\n",
    "| `bedrooms`                           | Integer             | Number of bedrooms (0 for studio).                                  |\n",
    "| `dist`                               | Numeric             | Distance from city centre (km).                                     |\n",
    "| `metro_dist`                         | Numeric             | Distance from nearest metro station (km).                           |\n",
    "| `attr_index`                         | Numeric             | Local attraction density index.                                     |\n",
    "| `rest_index`                         | Numeric             | Local restaurant density index.                                     |\n",
    "| `attr_index_norm`, `rest_index_norm` | Numeric             | Normalized versions of indices for comparability across cities.     |\n",
    "| `lng`, `lat`                         | Numeric             | Longitude and latitude coordinates of listing.                      |\n",
    "\n"
   ]
  },
  {
   "cell_type": "markdown",
   "id": "9c105b81",
   "metadata": {},
   "source": [
    "**1.2 Source and Information**\n",
    "\n",
    "The data were collected by web-scraping Airbnb public listings around 2020–2021 by The Devastator. The author compiled cleaned CSV files for each city and time category (weekday vs weekend) and license as CC BY-NC 4.0 (Attribution-NonCommercial)."
   ]
  },
  {
   "cell_type": "markdown",
   "id": "fa3a3d10",
   "metadata": {},
   "source": [
    "**1.3 Pre-Selection of Variables**\n",
    "\n",
    "- Variables to keep:\n",
    "\n",
    "`realSum`, `room_type`, `person_capacity`, `superhost`, `cleanliness_rating`, `guest_satisfaction_overall`, `dist`, `metro_dist`, `attr_index`, `rest_index`,  `weekday/weekend`.\n",
    "\n",
    "Reasoning: These variables seem most useful for both understanding factors for Airbnb prices or for building a model that can help estimate fair prices for future listings in Athens.\n",
    "\n",
    "- Variables to drop (initial cleaning phase):\n",
    "\n",
    "    - `lng`, `lat` – spatial coordinates not needed for non-map models (but can be added later for spatial EDA).\n",
    "    - `attr_index_norm`, `rest_index_norm` – correlated with non-normalized versions and may introduce redundancy.\n",
    "    - `multi`, `biz` – may be reintroduced if host type becomes an interest variable, but initial models will focus on inference model for price.\n",
    "\n",
    "Reasoning: Variables dropped contain redundant or identifier information not directly useful for predictive or interpretive modelling. All decisions will be re-evaluated after EDA.\n"
   ]
  },
  {
   "cell_type": "markdown",
   "id": "99bdb738",
   "metadata": {},
   "source": [
    "### Section 2: Scientific Question\n",
    "\n",
    "**2.1 Question**\n",
    "\n",
    "I would like to model and predict listing prices in European Airbnb across various listing Characteristic (e.g `room_type`, `person_capacity`, `superhost`, etc) and Quantitative data (e.g `dist`, `metro_dist`, `attr_index`, etc). \n",
    "\n",
    "**2.2 Name the response**\n",
    "\n",
    "The response variable is `realSum`, representing the total price of the Airbnb listing i Europe (especially in Athens where we focus on).\n",
    "\n",
    "**2.3 Explain whether your question is focused on prediction, inference, or both**\n",
    "\n",
    "My question focuses on both prediction and inference. I aim to identify which listing and location features significantly influence Airbnb prices (inference) while also building a model that can accurately predict the price of future listings based on these factors.\n",
    "\n"
   ]
  },
  {
   "cell_type": "markdown",
   "id": "90f7dbaa",
   "metadata": {},
   "source": [
    "### Section 3: Exploratory Data Analysis and Visualization "
   ]
  },
  {
   "cell_type": "code",
   "execution_count": 24,
   "id": "f9faf91a",
   "metadata": {
    "vscode": {
     "languageId": "r"
    }
   },
   "outputs": [
    {
     "data": {
      "text/html": [
       "<ol class=list-inline>\n",
       "\t<li>'data/amsterdam_weekdays.csv'</li>\n",
       "\t<li>'data/amsterdam_weekends.csv'</li>\n",
       "\t<li>'data/athens_weekdays.csv'</li>\n",
       "\t<li>'data/athens_weekends.csv'</li>\n",
       "\t<li>'data/barcelona_weekdays.csv'</li>\n",
       "\t<li>'data/barcelona_weekends.csv'</li>\n",
       "\t<li>'data/berlin_weekdays.csv'</li>\n",
       "\t<li>'data/berlin_weekends.csv'</li>\n",
       "\t<li>'data/budapest_weekdays.csv'</li>\n",
       "\t<li>'data/budapest_weekends.csv'</li>\n",
       "\t<li>'data/lisbon_weekdays.csv'</li>\n",
       "\t<li>'data/lisbon_weekends.csv'</li>\n",
       "\t<li>'data/london_weekdays.csv'</li>\n",
       "\t<li>'data/london_weekends.csv'</li>\n",
       "\t<li>'data/paris_weekdays.csv'</li>\n",
       "\t<li>'data/paris_weekends.csv'</li>\n",
       "\t<li>'data/rome_weekdays.csv'</li>\n",
       "\t<li>'data/rome_weekends.csv'</li>\n",
       "\t<li>'data/vienna_weekdays.csv'</li>\n",
       "\t<li>'data/vienna_weekends.csv'</li>\n",
       "</ol>\n"
      ],
      "text/latex": [
       "\\begin{enumerate*}\n",
       "\\item 'data/amsterdam\\_weekdays.csv'\n",
       "\\item 'data/amsterdam\\_weekends.csv'\n",
       "\\item 'data/athens\\_weekdays.csv'\n",
       "\\item 'data/athens\\_weekends.csv'\n",
       "\\item 'data/barcelona\\_weekdays.csv'\n",
       "\\item 'data/barcelona\\_weekends.csv'\n",
       "\\item 'data/berlin\\_weekdays.csv'\n",
       "\\item 'data/berlin\\_weekends.csv'\n",
       "\\item 'data/budapest\\_weekdays.csv'\n",
       "\\item 'data/budapest\\_weekends.csv'\n",
       "\\item 'data/lisbon\\_weekdays.csv'\n",
       "\\item 'data/lisbon\\_weekends.csv'\n",
       "\\item 'data/london\\_weekdays.csv'\n",
       "\\item 'data/london\\_weekends.csv'\n",
       "\\item 'data/paris\\_weekdays.csv'\n",
       "\\item 'data/paris\\_weekends.csv'\n",
       "\\item 'data/rome\\_weekdays.csv'\n",
       "\\item 'data/rome\\_weekends.csv'\n",
       "\\item 'data/vienna\\_weekdays.csv'\n",
       "\\item 'data/vienna\\_weekends.csv'\n",
       "\\end{enumerate*}\n"
      ],
      "text/markdown": [
       "1. 'data/amsterdam_weekdays.csv'\n",
       "2. 'data/amsterdam_weekends.csv'\n",
       "3. 'data/athens_weekdays.csv'\n",
       "4. 'data/athens_weekends.csv'\n",
       "5. 'data/barcelona_weekdays.csv'\n",
       "6. 'data/barcelona_weekends.csv'\n",
       "7. 'data/berlin_weekdays.csv'\n",
       "8. 'data/berlin_weekends.csv'\n",
       "9. 'data/budapest_weekdays.csv'\n",
       "10. 'data/budapest_weekends.csv'\n",
       "11. 'data/lisbon_weekdays.csv'\n",
       "12. 'data/lisbon_weekends.csv'\n",
       "13. 'data/london_weekdays.csv'\n",
       "14. 'data/london_weekends.csv'\n",
       "15. 'data/paris_weekdays.csv'\n",
       "16. 'data/paris_weekends.csv'\n",
       "17. 'data/rome_weekdays.csv'\n",
       "18. 'data/rome_weekends.csv'\n",
       "19. 'data/vienna_weekdays.csv'\n",
       "20. 'data/vienna_weekends.csv'\n",
       "\n",
       "\n"
      ],
      "text/plain": [
       " [1] \"data/amsterdam_weekdays.csv\" \"data/amsterdam_weekends.csv\"\n",
       " [3] \"data/athens_weekdays.csv\"    \"data/athens_weekends.csv\"   \n",
       " [5] \"data/barcelona_weekdays.csv\" \"data/barcelona_weekends.csv\"\n",
       " [7] \"data/berlin_weekdays.csv\"    \"data/berlin_weekends.csv\"   \n",
       " [9] \"data/budapest_weekdays.csv\"  \"data/budapest_weekends.csv\" \n",
       "[11] \"data/lisbon_weekdays.csv\"    \"data/lisbon_weekends.csv\"   \n",
       "[13] \"data/london_weekdays.csv\"    \"data/london_weekends.csv\"   \n",
       "[15] \"data/paris_weekdays.csv\"     \"data/paris_weekends.csv\"    \n",
       "[17] \"data/rome_weekdays.csv\"      \"data/rome_weekends.csv\"     \n",
       "[19] \"data/vienna_weekdays.csv\"    \"data/vienna_weekends.csv\"   "
      ]
     },
     "metadata": {},
     "output_type": "display_data"
    }
   ],
   "source": [
    "# List CSV files in ./data\n",
    "csv_files <- list.files(\"data\", pattern = \"\\\\.csv$\", full.names = TRUE)\n",
    "csv_files\n",
    "\n",
    "# Read each CSV into a named list of data.frames\n",
    "data_list <- lapply(csv_files, read.csv, stringsAsFactors = FALSE)\n",
    "names(data_list) <- basename(csv_files)  # names are file names\n",
    "\n",
    "# # Quick preview: show number of rows and first few rows for each\n",
    "# lapply(data_list, function(df) {\n",
    "#   list(rows = nrow(df), cols = ncol(df), head = head(df, 3))\n",
    "# })"
   ]
  },
  {
   "cell_type": "code",
   "execution_count": 45,
   "id": "05a26da1",
   "metadata": {
    "vscode": {
     "languageId": "r"
    }
   },
   "outputs": [
    {
     "data": {
      "text/html": [
       "<table>\n",
       "<thead><tr><th scope=col>X</th><th scope=col>realSum</th><th scope=col>room_type</th><th scope=col>room_shared</th><th scope=col>room_private</th><th scope=col>person_capacity</th><th scope=col>host_is_superhost</th><th scope=col>multi</th><th scope=col>biz</th><th scope=col>cleanliness_rating</th><th scope=col>guest_satisfaction_overall</th><th scope=col>bedrooms</th><th scope=col>dist</th><th scope=col>metro_dist</th><th scope=col>attr_index</th><th scope=col>attr_index_norm</th><th scope=col>rest_index</th><th scope=col>rest_index_norm</th><th scope=col>lng</th><th scope=col>lat</th></tr></thead>\n",
       "<tbody>\n",
       "\t<tr><td>0              </td><td>129.82448      </td><td>Entire home/apt</td><td>False          </td><td>False          </td><td>4              </td><td>False          </td><td>0              </td><td>0              </td><td>10             </td><td>100            </td><td>2              </td><td>2.8139635      </td><td>0.8818900      </td><td> 55.34857      </td><td>2.086871       </td><td> 78.77838      </td><td> 5.915160      </td><td>23.76600       </td><td>37.98300       </td></tr>\n",
       "\t<tr><td>1              </td><td>138.96375      </td><td>Entire home/apt</td><td>False          </td><td>False          </td><td>4              </td><td>True           </td><td>1              </td><td>0              </td><td>10             </td><td> 96            </td><td>1              </td><td>0.4072929      </td><td>0.3045679      </td><td>240.30665      </td><td>9.060559       </td><td>407.16770      </td><td>30.572629      </td><td>23.73168       </td><td>37.97776       </td></tr>\n",
       "\t<tr><td>2              </td><td>156.30492      </td><td>Entire home/apt</td><td>False          </td><td>False          </td><td>3              </td><td>True           </td><td>0              </td><td>1              </td><td>10             </td><td> 98            </td><td>1              </td><td>1.2372111      </td><td>0.2884881      </td><td>199.50737      </td><td>7.522257       </td><td>395.96740      </td><td>29.731642      </td><td>23.72200       </td><td>37.97900       </td></tr>\n",
       "\t<tr><td>3              </td><td> 91.62702      </td><td>Entire home/apt</td><td>False          </td><td>False          </td><td>4              </td><td>True           </td><td>1              </td><td>0              </td><td>10             </td><td> 99            </td><td>1              </td><td>4.3674572      </td><td>0.2974673      </td><td> 39.80305      </td><td>1.500740       </td><td> 58.70658      </td><td> 4.408047      </td><td>23.72712       </td><td>38.01435       </td></tr>\n",
       "\t<tr><td>4              </td><td> 74.05151      </td><td>Private room   </td><td>False          </td><td>True           </td><td>2              </td><td>False          </td><td>0              </td><td>0              </td><td>10             </td><td>100            </td><td>1              </td><td>2.1941850      </td><td>0.3852657      </td><td> 78.73340      </td><td>2.968577       </td><td>113.32597      </td><td> 8.509204      </td><td>23.73391       </td><td>37.99529       </td></tr>\n",
       "\t<tr><td>5              </td><td>113.88934      </td><td>Entire home/apt</td><td>False          </td><td>False          </td><td>6              </td><td>True           </td><td>1              </td><td>0              </td><td>10             </td><td> 96            </td><td>2              </td><td>2.0712056      </td><td>0.4538674      </td><td> 96.58899      </td><td>3.641806       </td><td>158.64432      </td><td>11.911981      </td><td>23.71584       </td><td>37.98598       </td></tr>\n",
       "</tbody>\n",
       "</table>\n"
      ],
      "text/latex": [
       "\\begin{tabular}{r|llllllllllllllllllll}\n",
       " X & realSum & room\\_type & room\\_shared & room\\_private & person\\_capacity & host\\_is\\_superhost & multi & biz & cleanliness\\_rating & guest\\_satisfaction\\_overall & bedrooms & dist & metro\\_dist & attr\\_index & attr\\_index\\_norm & rest\\_index & rest\\_index\\_norm & lng & lat\\\\\n",
       "\\hline\n",
       "\t 0               & 129.82448       & Entire home/apt & False           & False           & 4               & False           & 0               & 0               & 10              & 100             & 2               & 2.8139635       & 0.8818900       &  55.34857       & 2.086871        &  78.77838       &  5.915160       & 23.76600        & 37.98300       \\\\\n",
       "\t 1               & 138.96375       & Entire home/apt & False           & False           & 4               & True            & 1               & 0               & 10              &  96             & 1               & 0.4072929       & 0.3045679       & 240.30665       & 9.060559        & 407.16770       & 30.572629       & 23.73168        & 37.97776       \\\\\n",
       "\t 2               & 156.30492       & Entire home/apt & False           & False           & 3               & True            & 0               & 1               & 10              &  98             & 1               & 1.2372111       & 0.2884881       & 199.50737       & 7.522257        & 395.96740       & 29.731642       & 23.72200        & 37.97900       \\\\\n",
       "\t 3               &  91.62702       & Entire home/apt & False           & False           & 4               & True            & 1               & 0               & 10              &  99             & 1               & 4.3674572       & 0.2974673       &  39.80305       & 1.500740        &  58.70658       &  4.408047       & 23.72712        & 38.01435       \\\\\n",
       "\t 4               &  74.05151       & Private room    & False           & True            & 2               & False           & 0               & 0               & 10              & 100             & 1               & 2.1941850       & 0.3852657       &  78.73340       & 2.968577        & 113.32597       &  8.509204       & 23.73391        & 37.99529       \\\\\n",
       "\t 5               & 113.88934       & Entire home/apt & False           & False           & 6               & True            & 1               & 0               & 10              &  96             & 2               & 2.0712056       & 0.4538674       &  96.58899       & 3.641806        & 158.64432       & 11.911981       & 23.71584        & 37.98598       \\\\\n",
       "\\end{tabular}\n"
      ],
      "text/markdown": [
       "\n",
       "X | realSum | room_type | room_shared | room_private | person_capacity | host_is_superhost | multi | biz | cleanliness_rating | guest_satisfaction_overall | bedrooms | dist | metro_dist | attr_index | attr_index_norm | rest_index | rest_index_norm | lng | lat | \n",
       "|---|---|---|---|---|---|\n",
       "| 0               | 129.82448       | Entire home/apt | False           | False           | 4               | False           | 0               | 0               | 10              | 100             | 2               | 2.8139635       | 0.8818900       |  55.34857       | 2.086871        |  78.77838       |  5.915160       | 23.76600        | 37.98300        | \n",
       "| 1               | 138.96375       | Entire home/apt | False           | False           | 4               | True            | 1               | 0               | 10              |  96             | 1               | 0.4072929       | 0.3045679       | 240.30665       | 9.060559        | 407.16770       | 30.572629       | 23.73168        | 37.97776        | \n",
       "| 2               | 156.30492       | Entire home/apt | False           | False           | 3               | True            | 0               | 1               | 10              |  98             | 1               | 1.2372111       | 0.2884881       | 199.50737       | 7.522257        | 395.96740       | 29.731642       | 23.72200        | 37.97900        | \n",
       "| 3               |  91.62702       | Entire home/apt | False           | False           | 4               | True            | 1               | 0               | 10              |  99             | 1               | 4.3674572       | 0.2974673       |  39.80305       | 1.500740        |  58.70658       |  4.408047       | 23.72712        | 38.01435        | \n",
       "| 4               |  74.05151       | Private room    | False           | True            | 2               | False           | 0               | 0               | 10              | 100             | 1               | 2.1941850       | 0.3852657       |  78.73340       | 2.968577        | 113.32597       |  8.509204       | 23.73391        | 37.99529        | \n",
       "| 5               | 113.88934       | Entire home/apt | False           | False           | 6               | True            | 1               | 0               | 10              |  96             | 2               | 2.0712056       | 0.4538674       |  96.58899       | 3.641806        | 158.64432       | 11.911981       | 23.71584        | 37.98598        | \n",
       "\n",
       "\n"
      ],
      "text/plain": [
       "  X realSum   room_type       room_shared room_private person_capacity\n",
       "1 0 129.82448 Entire home/apt False       False        4              \n",
       "2 1 138.96375 Entire home/apt False       False        4              \n",
       "3 2 156.30492 Entire home/apt False       False        3              \n",
       "4 3  91.62702 Entire home/apt False       False        4              \n",
       "5 4  74.05151 Private room    False       True         2              \n",
       "6 5 113.88934 Entire home/apt False       False        6              \n",
       "  host_is_superhost multi biz cleanliness_rating guest_satisfaction_overall\n",
       "1 False             0     0   10                 100                       \n",
       "2 True              1     0   10                  96                       \n",
       "3 True              0     1   10                  98                       \n",
       "4 True              1     0   10                  99                       \n",
       "5 False             0     0   10                 100                       \n",
       "6 True              1     0   10                  96                       \n",
       "  bedrooms dist      metro_dist attr_index attr_index_norm rest_index\n",
       "1 2        2.8139635 0.8818900   55.34857  2.086871         78.77838 \n",
       "2 1        0.4072929 0.3045679  240.30665  9.060559        407.16770 \n",
       "3 1        1.2372111 0.2884881  199.50737  7.522257        395.96740 \n",
       "4 1        4.3674572 0.2974673   39.80305  1.500740         58.70658 \n",
       "5 1        2.1941850 0.3852657   78.73340  2.968577        113.32597 \n",
       "6 2        2.0712056 0.4538674   96.58899  3.641806        158.64432 \n",
       "  rest_index_norm lng      lat     \n",
       "1  5.915160       23.76600 37.98300\n",
       "2 30.572629       23.73168 37.97776\n",
       "3 29.731642       23.72200 37.97900\n",
       "4  4.408047       23.72712 38.01435\n",
       "5  8.509204       23.73391 37.99529\n",
       "6 11.911981       23.71584 37.98598"
      ]
     },
     "metadata": {},
     "output_type": "display_data"
    },
    {
     "data": {
      "text/html": [
       "<table>\n",
       "<thead><tr><th scope=col>X</th><th scope=col>realSum</th><th scope=col>room_type</th><th scope=col>room_shared</th><th scope=col>room_private</th><th scope=col>person_capacity</th><th scope=col>host_is_superhost</th><th scope=col>multi</th><th scope=col>biz</th><th scope=col>cleanliness_rating</th><th scope=col>guest_satisfaction_overall</th><th scope=col>bedrooms</th><th scope=col>dist</th><th scope=col>metro_dist</th><th scope=col>attr_index</th><th scope=col>attr_index_norm</th><th scope=col>rest_index</th><th scope=col>rest_index_norm</th><th scope=col>lng</th><th scope=col>lat</th></tr></thead>\n",
       "<tbody>\n",
       "\t<tr><td>0              </td><td>138.96375      </td><td>Entire home/apt</td><td>False          </td><td>False          </td><td>4              </td><td>True           </td><td>1              </td><td>0              </td><td>10             </td><td> 96            </td><td>1              </td><td>0.4072777      </td><td>0.3045697      </td><td>240.30650      </td><td>9.054205       </td><td>407.16796      </td><td>6.0806216      </td><td>23.73168       </td><td>37.97776       </td></tr>\n",
       "\t<tr><td>1              </td><td> 91.62702      </td><td>Entire home/apt</td><td>False          </td><td>False          </td><td>4              </td><td>True           </td><td>1              </td><td>0              </td><td>10             </td><td> 99            </td><td>1              </td><td>4.3674631      </td><td>0.2974735      </td><td> 39.80300      </td><td>1.499687       </td><td> 58.70652      </td><td>0.8767197      </td><td>23.72712       </td><td>38.01435       </td></tr>\n",
       "\t<tr><td>2              </td><td> 76.62925      </td><td>Private room   </td><td>False          </td><td>True           </td><td>2              </td><td>False          </td><td>0              </td><td>0              </td><td>10             </td><td>100            </td><td>1              </td><td>2.1941738      </td><td>0.3852475      </td><td> 78.73400      </td><td>2.966519       </td><td>113.32668      </td><td>1.6924138      </td><td>23.73391       </td><td>37.99529       </td></tr>\n",
       "\t<tr><td>3              </td><td>151.85246      </td><td>Entire home/apt</td><td>False          </td><td>False          </td><td>4              </td><td>True           </td><td>0              </td><td>1              </td><td>10             </td><td>100            </td><td>2              </td><td>2.5089816      </td><td>0.5634735      </td><td> 68.77488      </td><td>2.591282       </td><td>101.16207      </td><td>1.5107482      </td><td>23.73200       </td><td>37.99800       </td></tr>\n",
       "\t<tr><td>4              </td><td> 98.65723      </td><td>Entire home/apt</td><td>False          </td><td>False          </td><td>2              </td><td>True           </td><td>1              </td><td>0              </td><td>10             </td><td> 95            </td><td>1              </td><td>2.7405814      </td><td>0.7250455      </td><td> 62.90286      </td><td>2.370037       </td><td> 92.61113      </td><td>1.3830489      </td><td>23.73100       </td><td>38.00000       </td></tr>\n",
       "\t<tr><td>5              </td><td>173.88044      </td><td>Entire home/apt</td><td>False          </td><td>False          </td><td>4              </td><td>True           </td><td>1              </td><td>0              </td><td>10             </td><td> 97            </td><td>1              </td><td>0.8690264      </td><td>0.4707861      </td><td>132.33536      </td><td>4.986097       </td><td>221.33873      </td><td>3.3054592      </td><td>23.73680       </td><td>37.98331       </td></tr>\n",
       "</tbody>\n",
       "</table>\n"
      ],
      "text/latex": [
       "\\begin{tabular}{r|llllllllllllllllllll}\n",
       " X & realSum & room\\_type & room\\_shared & room\\_private & person\\_capacity & host\\_is\\_superhost & multi & biz & cleanliness\\_rating & guest\\_satisfaction\\_overall & bedrooms & dist & metro\\_dist & attr\\_index & attr\\_index\\_norm & rest\\_index & rest\\_index\\_norm & lng & lat\\\\\n",
       "\\hline\n",
       "\t 0               & 138.96375       & Entire home/apt & False           & False           & 4               & True            & 1               & 0               & 10              &  96             & 1               & 0.4072777       & 0.3045697       & 240.30650       & 9.054205        & 407.16796       & 6.0806216       & 23.73168        & 37.97776       \\\\\n",
       "\t 1               &  91.62702       & Entire home/apt & False           & False           & 4               & True            & 1               & 0               & 10              &  99             & 1               & 4.3674631       & 0.2974735       &  39.80300       & 1.499687        &  58.70652       & 0.8767197       & 23.72712        & 38.01435       \\\\\n",
       "\t 2               &  76.62925       & Private room    & False           & True            & 2               & False           & 0               & 0               & 10              & 100             & 1               & 2.1941738       & 0.3852475       &  78.73400       & 2.966519        & 113.32668       & 1.6924138       & 23.73391        & 37.99529       \\\\\n",
       "\t 3               & 151.85246       & Entire home/apt & False           & False           & 4               & True            & 0               & 1               & 10              & 100             & 2               & 2.5089816       & 0.5634735       &  68.77488       & 2.591282        & 101.16207       & 1.5107482       & 23.73200        & 37.99800       \\\\\n",
       "\t 4               &  98.65723       & Entire home/apt & False           & False           & 2               & True            & 1               & 0               & 10              &  95             & 1               & 2.7405814       & 0.7250455       &  62.90286       & 2.370037        &  92.61113       & 1.3830489       & 23.73100        & 38.00000       \\\\\n",
       "\t 5               & 173.88044       & Entire home/apt & False           & False           & 4               & True            & 1               & 0               & 10              &  97             & 1               & 0.8690264       & 0.4707861       & 132.33536       & 4.986097        & 221.33873       & 3.3054592       & 23.73680        & 37.98331       \\\\\n",
       "\\end{tabular}\n"
      ],
      "text/markdown": [
       "\n",
       "X | realSum | room_type | room_shared | room_private | person_capacity | host_is_superhost | multi | biz | cleanliness_rating | guest_satisfaction_overall | bedrooms | dist | metro_dist | attr_index | attr_index_norm | rest_index | rest_index_norm | lng | lat | \n",
       "|---|---|---|---|---|---|\n",
       "| 0               | 138.96375       | Entire home/apt | False           | False           | 4               | True            | 1               | 0               | 10              |  96             | 1               | 0.4072777       | 0.3045697       | 240.30650       | 9.054205        | 407.16796       | 6.0806216       | 23.73168        | 37.97776        | \n",
       "| 1               |  91.62702       | Entire home/apt | False           | False           | 4               | True            | 1               | 0               | 10              |  99             | 1               | 4.3674631       | 0.2974735       |  39.80300       | 1.499687        |  58.70652       | 0.8767197       | 23.72712        | 38.01435        | \n",
       "| 2               |  76.62925       | Private room    | False           | True            | 2               | False           | 0               | 0               | 10              | 100             | 1               | 2.1941738       | 0.3852475       |  78.73400       | 2.966519        | 113.32668       | 1.6924138       | 23.73391        | 37.99529        | \n",
       "| 3               | 151.85246       | Entire home/apt | False           | False           | 4               | True            | 0               | 1               | 10              | 100             | 2               | 2.5089816       | 0.5634735       |  68.77488       | 2.591282        | 101.16207       | 1.5107482       | 23.73200        | 37.99800        | \n",
       "| 4               |  98.65723       | Entire home/apt | False           | False           | 2               | True            | 1               | 0               | 10              |  95             | 1               | 2.7405814       | 0.7250455       |  62.90286       | 2.370037        |  92.61113       | 1.3830489       | 23.73100        | 38.00000        | \n",
       "| 5               | 173.88044       | Entire home/apt | False           | False           | 4               | True            | 1               | 0               | 10              |  97             | 1               | 0.8690264       | 0.4707861       | 132.33536       | 4.986097        | 221.33873       | 3.3054592       | 23.73680        | 37.98331        | \n",
       "\n",
       "\n"
      ],
      "text/plain": [
       "  X realSum   room_type       room_shared room_private person_capacity\n",
       "1 0 138.96375 Entire home/apt False       False        4              \n",
       "2 1  91.62702 Entire home/apt False       False        4              \n",
       "3 2  76.62925 Private room    False       True         2              \n",
       "4 3 151.85246 Entire home/apt False       False        4              \n",
       "5 4  98.65723 Entire home/apt False       False        2              \n",
       "6 5 173.88044 Entire home/apt False       False        4              \n",
       "  host_is_superhost multi biz cleanliness_rating guest_satisfaction_overall\n",
       "1 True              1     0   10                  96                       \n",
       "2 True              1     0   10                  99                       \n",
       "3 False             0     0   10                 100                       \n",
       "4 True              0     1   10                 100                       \n",
       "5 True              1     0   10                  95                       \n",
       "6 True              1     0   10                  97                       \n",
       "  bedrooms dist      metro_dist attr_index attr_index_norm rest_index\n",
       "1 1        0.4072777 0.3045697  240.30650  9.054205        407.16796 \n",
       "2 1        4.3674631 0.2974735   39.80300  1.499687         58.70652 \n",
       "3 1        2.1941738 0.3852475   78.73400  2.966519        113.32668 \n",
       "4 2        2.5089816 0.5634735   68.77488  2.591282        101.16207 \n",
       "5 1        2.7405814 0.7250455   62.90286  2.370037         92.61113 \n",
       "6 1        0.8690264 0.4707861  132.33536  4.986097        221.33873 \n",
       "  rest_index_norm lng      lat     \n",
       "1 6.0806216       23.73168 37.97776\n",
       "2 0.8767197       23.72712 38.01435\n",
       "3 1.6924138       23.73391 37.99529\n",
       "4 1.5107482       23.73200 37.99800\n",
       "5 1.3830489       23.73100 38.00000\n",
       "6 3.3054592       23.73680 37.98331"
      ]
     },
     "metadata": {},
     "output_type": "display_data"
    }
   ],
   "source": [
    "athens_weekdays <- data_list[[\"athens_weekdays.csv\"]]\n",
    "athens_weekends <- data_list[[\"athens_weekends.csv\"]]\n",
    "\n",
    "head(athens_weekdays)\n",
    "head(athens_weekends)"
   ]
  },
  {
   "cell_type": "code",
   "execution_count": 40,
   "id": "d1b12650",
   "metadata": {
    "vscode": {
     "languageId": "r"
    }
   },
   "outputs": [
    {
     "data": {
      "text/html": [
       "<ol class=list-inline>\n",
       "\t<li>'X'</li>\n",
       "\t<li>'realSum'</li>\n",
       "\t<li>'room_type'</li>\n",
       "\t<li>'room_shared'</li>\n",
       "\t<li>'room_private'</li>\n",
       "\t<li>'person_capacity'</li>\n",
       "\t<li>'host_is_superhost'</li>\n",
       "\t<li>'multi'</li>\n",
       "\t<li>'biz'</li>\n",
       "\t<li>'cleanliness_rating'</li>\n",
       "\t<li>'guest_satisfaction_overall'</li>\n",
       "\t<li>'bedrooms'</li>\n",
       "\t<li>'dist'</li>\n",
       "\t<li>'metro_dist'</li>\n",
       "\t<li>'attr_index'</li>\n",
       "\t<li>'attr_index_norm'</li>\n",
       "\t<li>'rest_index'</li>\n",
       "\t<li>'rest_index_norm'</li>\n",
       "\t<li>'lng'</li>\n",
       "\t<li>'lat'</li>\n",
       "</ol>\n"
      ],
      "text/latex": [
       "\\begin{enumerate*}\n",
       "\\item 'X'\n",
       "\\item 'realSum'\n",
       "\\item 'room\\_type'\n",
       "\\item 'room\\_shared'\n",
       "\\item 'room\\_private'\n",
       "\\item 'person\\_capacity'\n",
       "\\item 'host\\_is\\_superhost'\n",
       "\\item 'multi'\n",
       "\\item 'biz'\n",
       "\\item 'cleanliness\\_rating'\n",
       "\\item 'guest\\_satisfaction\\_overall'\n",
       "\\item 'bedrooms'\n",
       "\\item 'dist'\n",
       "\\item 'metro\\_dist'\n",
       "\\item 'attr\\_index'\n",
       "\\item 'attr\\_index\\_norm'\n",
       "\\item 'rest\\_index'\n",
       "\\item 'rest\\_index\\_norm'\n",
       "\\item 'lng'\n",
       "\\item 'lat'\n",
       "\\end{enumerate*}\n"
      ],
      "text/markdown": [
       "1. 'X'\n",
       "2. 'realSum'\n",
       "3. 'room_type'\n",
       "4. 'room_shared'\n",
       "5. 'room_private'\n",
       "6. 'person_capacity'\n",
       "7. 'host_is_superhost'\n",
       "8. 'multi'\n",
       "9. 'biz'\n",
       "10. 'cleanliness_rating'\n",
       "11. 'guest_satisfaction_overall'\n",
       "12. 'bedrooms'\n",
       "13. 'dist'\n",
       "14. 'metro_dist'\n",
       "15. 'attr_index'\n",
       "16. 'attr_index_norm'\n",
       "17. 'rest_index'\n",
       "18. 'rest_index_norm'\n",
       "19. 'lng'\n",
       "20. 'lat'\n",
       "\n",
       "\n"
      ],
      "text/plain": [
       " [1] \"X\"                          \"realSum\"                   \n",
       " [3] \"room_type\"                  \"room_shared\"               \n",
       " [5] \"room_private\"               \"person_capacity\"           \n",
       " [7] \"host_is_superhost\"          \"multi\"                     \n",
       " [9] \"biz\"                        \"cleanliness_rating\"        \n",
       "[11] \"guest_satisfaction_overall\" \"bedrooms\"                  \n",
       "[13] \"dist\"                       \"metro_dist\"                \n",
       "[15] \"attr_index\"                 \"attr_index_norm\"           \n",
       "[17] \"rest_index\"                 \"rest_index_norm\"           \n",
       "[19] \"lng\"                        \"lat\"                       "
      ]
     },
     "metadata": {},
     "output_type": "display_data"
    }
   ],
   "source": [
    "columns <- colnames(athens_weekdays)olumns"
   ]
  },
  {
   "cell_type": "code",
   "execution_count": null,
   "id": "f8ec4545",
   "metadata": {
    "vscode": {
     "languageId": "r"
    }
   },
   "outputs": [],
   "source": [
    "# Just to check room types / room shared\n",
    "# room_shared_weekdays <- athens_weekdays[athens_weekdays$room_type == 'Shared room', ]\n",
    "# room_shared_weekends <- athens_weekends[athens_weekends$room_type == 'Shared room', ]\n",
    "# room_shared_weekdays\n",
    "# nrow(room_shared_weekdays)\n",
    "# room_shared_weekends"
   ]
  },
  {
   "cell_type": "code",
   "execution_count": null,
   "id": "9732c171",
   "metadata": {
    "vscode": {
     "languageId": "r"
    }
   },
   "outputs": [],
   "source": []
  }
 ],
 "metadata": {
  "kernelspec": {
   "display_name": "R",
   "language": "R",
   "name": "ir"
  },
  "language_info": {
   "codemirror_mode": "r",
   "file_extension": ".r",
   "mimetype": "text/x-r-source",
   "name": "R",
   "pygments_lexer": "r",
   "version": "3.5.1"
  }
 },
 "nbformat": 4,
 "nbformat_minor": 5
}
