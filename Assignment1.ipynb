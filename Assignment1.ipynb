{
 "cells": [
  {
   "cell_type": "markdown",
   "id": "26f7a16a",
   "metadata": {},
   "source": [
    "# Assignment 1: Data Description & Exploratory Data Analysis\n",
    "\n",
    "### Group 35: Prasojo, Naufal\n",
    "\n",
    "### Section 1: Data Description\n",
    "\n",
    "**1.1 Data Summary**\n",
    "- **Dataset Name:** Airbnb Prices in European Cities\n",
    "- **Source:** Kaggle dataset by The Devastator (2021). Available at\n",
    "https://www.kaggle.com/datasets/thedevastator/airbnb-prices-in-european-cities?utm_source=chatgpt.com\n",
    "- **License:** CC BY-NC 4.0 (Attribution-NonCommercial).\n",
    "- **Data Collection:** Listings were web-scraped from Airbnb for 10 European cities (Amsterdam, Athens, Barcelona, Berlin, Budapest, Lisbon, London, Paris, Rome, Vienna).\n",
    "     - Each city has two files (weekday and weekend) capturing snapshot prices for 2-night stays for two guests.\n",
    "     - Approx. 51 000 observations (rows) and ≈ 21–23 variables (columns).\n"
   ]
  },
  {
   "cell_type": "markdown",
   "id": "6d76b9db",
   "metadata": {},
   "source": [
    "\n",
    "**1.2 Variable Description**\n",
    "\n",
    "| Variable Name                        | Type                | Description                                                         |\n",
    "| :----------------------------------- | :------------------ | :------------------------------------------------------------------ |\n",
    "| `realSum`                            | Numeric             | Total price (in euros) for the stay.                                |\n",
    "| `room_type`                          | Categorical         | Type of accommodation (Entire home/apt, Private room, Shared room). |\n",
    "| `room_shared`                        | Boolean             | 1 if room is shared; 0 otherwise.                                   |\n",
    "| `room_private`                       | Boolean             | 1 if room is private; 0 otherwise.                                  |\n",
    "| `person_capacity`                    | Integer             | Maximum number of guests.                                           |\n",
    "| `superhost`                          | Boolean             | 1 if host is a Superhost status; 0 otherwise.                       |\n",
    "| `multi`                              | Boolean             | 1 if host owns 2–4 listings; 0 otherwise.                           |\n",
    "| `biz`                                | Boolean             | 1 if host is a business (>4 listings).                              |\n",
    "| `cleanliness_rating`                 | Numeric (1–10)      | Guest-reported cleanliness rating.                                  |\n",
    "| `guest_satisfaction_overall`         | Numeric (1–100)     | Overall guest satisfaction score.                                   |\n",
    "| `bedrooms`                           | Integer             | Number of bedrooms (0 for studio).                                  |\n",
    "| `dist`                               | Numeric             | Distance from city centre (km).                                     |\n",
    "| `metro_dist`                         | Numeric             | Distance from nearest metro station (km).                           |\n",
    "| `attr_index`                         | Numeric             | Local attraction density index.                                     |\n",
    "| `rest_index`                         | Numeric             | Local restaurant density index.                                     |\n",
    "| `attr_index_norm`, `rest_index_norm` | Numeric             | Normalized versions of indices for comparability across cities.     |\n",
    "| `lng`, `lat`                         | Numeric             | Longitude and latitude coordinates of listing.                      |\n",
    "| `city`                               | Categorical         | City name (added from filename).                                    |\n",
    "| `weekday/weekend`                    | Categorical         | Whether price is from weekday or weekend file.                      |\n",
    "| `Unnamed`, `ID`, `host_id`           | Categorical/Integer | Technical identifier columns (if present; not used in analysis).    |\n"
   ]
  },
  {
   "cell_type": "code",
   "execution_count": null,
   "id": "f9faf91a",
   "metadata": {
    "vscode": {
     "languageId": "r"
    }
   },
   "outputs": [
    {
     "data": {
      "text/html": [
       "<ol class=list-inline>\n",
       "\t<li>'data/amsterdam_weekdays.csv'</li>\n",
       "\t<li>'data/amsterdam_weekends.csv'</li>\n",
       "\t<li>'data/athens_weekdays.csv'</li>\n",
       "\t<li>'data/athens_weekends.csv'</li>\n",
       "\t<li>'data/barcelona_weekdays.csv'</li>\n",
       "\t<li>'data/barcelona_weekends.csv'</li>\n",
       "\t<li>'data/berlin_weekdays.csv'</li>\n",
       "\t<li>'data/berlin_weekends.csv'</li>\n",
       "\t<li>'data/budapest_weekdays.csv'</li>\n",
       "\t<li>'data/budapest_weekends.csv'</li>\n",
       "\t<li>'data/lisbon_weekdays.csv'</li>\n",
       "\t<li>'data/lisbon_weekends.csv'</li>\n",
       "\t<li>'data/london_weekdays.csv'</li>\n",
       "\t<li>'data/london_weekends.csv'</li>\n",
       "\t<li>'data/paris_weekdays.csv'</li>\n",
       "\t<li>'data/paris_weekends.csv'</li>\n",
       "\t<li>'data/rome_weekdays.csv'</li>\n",
       "\t<li>'data/rome_weekends.csv'</li>\n",
       "\t<li>'data/vienna_weekdays.csv'</li>\n",
       "\t<li>'data/vienna_weekends.csv'</li>\n",
       "</ol>\n"
      ],
      "text/latex": [
       "\\begin{enumerate*}\n",
       "\\item 'data/amsterdam\\_weekdays.csv'\n",
       "\\item 'data/amsterdam\\_weekends.csv'\n",
       "\\item 'data/athens\\_weekdays.csv'\n",
       "\\item 'data/athens\\_weekends.csv'\n",
       "\\item 'data/barcelona\\_weekdays.csv'\n",
       "\\item 'data/barcelona\\_weekends.csv'\n",
       "\\item 'data/berlin\\_weekdays.csv'\n",
       "\\item 'data/berlin\\_weekends.csv'\n",
       "\\item 'data/budapest\\_weekdays.csv'\n",
       "\\item 'data/budapest\\_weekends.csv'\n",
       "\\item 'data/lisbon\\_weekdays.csv'\n",
       "\\item 'data/lisbon\\_weekends.csv'\n",
       "\\item 'data/london\\_weekdays.csv'\n",
       "\\item 'data/london\\_weekends.csv'\n",
       "\\item 'data/paris\\_weekdays.csv'\n",
       "\\item 'data/paris\\_weekends.csv'\n",
       "\\item 'data/rome\\_weekdays.csv'\n",
       "\\item 'data/rome\\_weekends.csv'\n",
       "\\item 'data/vienna\\_weekdays.csv'\n",
       "\\item 'data/vienna\\_weekends.csv'\n",
       "\\end{enumerate*}\n"
      ],
      "text/markdown": [
       "1. 'data/amsterdam_weekdays.csv'\n",
       "2. 'data/amsterdam_weekends.csv'\n",
       "3. 'data/athens_weekdays.csv'\n",
       "4. 'data/athens_weekends.csv'\n",
       "5. 'data/barcelona_weekdays.csv'\n",
       "6. 'data/barcelona_weekends.csv'\n",
       "7. 'data/berlin_weekdays.csv'\n",
       "8. 'data/berlin_weekends.csv'\n",
       "9. 'data/budapest_weekdays.csv'\n",
       "10. 'data/budapest_weekends.csv'\n",
       "11. 'data/lisbon_weekdays.csv'\n",
       "12. 'data/lisbon_weekends.csv'\n",
       "13. 'data/london_weekdays.csv'\n",
       "14. 'data/london_weekends.csv'\n",
       "15. 'data/paris_weekdays.csv'\n",
       "16. 'data/paris_weekends.csv'\n",
       "17. 'data/rome_weekdays.csv'\n",
       "18. 'data/rome_weekends.csv'\n",
       "19. 'data/vienna_weekdays.csv'\n",
       "20. 'data/vienna_weekends.csv'\n",
       "\n",
       "\n"
      ],
      "text/plain": [
       " [1] \"data/amsterdam_weekdays.csv\" \"data/amsterdam_weekends.csv\"\n",
       " [3] \"data/athens_weekdays.csv\"    \"data/athens_weekends.csv\"   \n",
       " [5] \"data/barcelona_weekdays.csv\" \"data/barcelona_weekends.csv\"\n",
       " [7] \"data/berlin_weekdays.csv\"    \"data/berlin_weekends.csv\"   \n",
       " [9] \"data/budapest_weekdays.csv\"  \"data/budapest_weekends.csv\" \n",
       "[11] \"data/lisbon_weekdays.csv\"    \"data/lisbon_weekends.csv\"   \n",
       "[13] \"data/london_weekdays.csv\"    \"data/london_weekends.csv\"   \n",
       "[15] \"data/paris_weekdays.csv\"     \"data/paris_weekends.csv\"    \n",
       "[17] \"data/rome_weekdays.csv\"      \"data/rome_weekends.csv\"     \n",
       "[19] \"data/vienna_weekdays.csv\"    \"data/vienna_weekends.csv\"   "
      ]
     },
     "metadata": {},
     "output_type": "display_data"
    }
   ],
   "source": [
    "# List CSV files in ./data\n",
    "csv_files <- list.files(\"data\", pattern = \"\\\\.csv$\", full.names = TRUE)\n",
    "csv_files\n",
    "\n",
    "# Read each CSV into a named list of data.frames\n",
    "data_list <- lapply(csv_files, read.csv, stringsAsFactors = FALSE)\n",
    "names(data_list) <- basename(csv_files)  # names are file names\n",
    "\n",
    "# # Quick preview: show number of rows and first few rows for each\n",
    "# lapply(data_list, function(df) {\n",
    "#   list(rows = nrow(df), cols = ncol(df), head = head(df, 3))\n",
    "# })"
   ]
  },
  {
   "cell_type": "code",
   "execution_count": null,
   "id": "548dbb9b",
   "metadata": {
    "vscode": {
     "languageId": "r"
    }
   },
   "outputs": [
    {
     "data": {
      "text/html": [
       "<table>\n",
       "<thead><tr><th scope=col>X</th><th scope=col>realSum</th><th scope=col>room_type</th><th scope=col>room_shared</th><th scope=col>room_private</th><th scope=col>person_capacity</th><th scope=col>host_is_superhost</th><th scope=col>multi</th><th scope=col>biz</th><th scope=col>cleanliness_rating</th><th scope=col>guest_satisfaction_overall</th><th scope=col>bedrooms</th><th scope=col>dist</th><th scope=col>metro_dist</th><th scope=col>attr_index</th><th scope=col>attr_index_norm</th><th scope=col>rest_index</th><th scope=col>rest_index_norm</th><th scope=col>lng</th><th scope=col>lat</th></tr></thead>\n",
       "<tbody>\n",
       "\t<tr><td>0           </td><td>194.0337    </td><td>Private room</td><td>False       </td><td>True        </td><td>2           </td><td>False       </td><td>1           </td><td>0           </td><td>10          </td><td> 93         </td><td>1           </td><td>5.0229638   </td><td>2.5393800   </td><td> 78.69038   </td><td> 4.166708   </td><td> 98.25390   </td><td> 6.846473   </td><td>4.90569     </td><td>52.41772    </td></tr>\n",
       "\t<tr><td>1           </td><td>344.2458    </td><td>Private room</td><td>False       </td><td>True        </td><td>4           </td><td>False       </td><td>0           </td><td>0           </td><td> 8          </td><td> 85         </td><td>1           </td><td>0.4883893   </td><td>0.2394039   </td><td>631.17638   </td><td>33.421209   </td><td>837.28076   </td><td>58.342928   </td><td>4.90005     </td><td>52.37432    </td></tr>\n",
       "\t<tr><td>2           </td><td>264.1014    </td><td>Private room</td><td>False       </td><td>True        </td><td>2           </td><td>False       </td><td>0           </td><td>1           </td><td> 9          </td><td> 87         </td><td>1           </td><td>5.7483119   </td><td>3.6516213   </td><td> 75.27588   </td><td> 3.985908   </td><td> 95.38695   </td><td> 6.646700   </td><td>4.97512     </td><td>52.36103    </td></tr>\n",
       "\t<tr><td>3           </td><td>433.5294    </td><td>Private room</td><td>False       </td><td>True        </td><td>4           </td><td>False       </td><td>0           </td><td>1           </td><td> 9          </td><td> 90         </td><td>2           </td><td>0.3848620   </td><td>0.4398761   </td><td>493.27253   </td><td>26.119108   </td><td>875.03310   </td><td>60.973565   </td><td>4.89417     </td><td>52.37663    </td></tr>\n",
       "\t<tr><td>4           </td><td>485.5529    </td><td>Private room</td><td>False       </td><td>True        </td><td>2           </td><td>True        </td><td>0           </td><td>0           </td><td>10          </td><td> 98         </td><td>1           </td><td>0.5447382   </td><td>0.3186926   </td><td>552.83032   </td><td>29.272733   </td><td>815.30574   </td><td>56.811677   </td><td>4.90051     </td><td>52.37508    </td></tr>\n",
       "\t<tr><td>5           </td><td>552.8086    </td><td>Private room</td><td>False       </td><td>True        </td><td>3           </td><td>False       </td><td>0           </td><td>0           </td><td> 8          </td><td>100         </td><td>2           </td><td>2.1314201   </td><td>1.9046682   </td><td>174.78896   </td><td> 9.255191   </td><td>225.20166   </td><td>15.692376   </td><td>4.87699     </td><td>52.38966    </td></tr>\n",
       "</tbody>\n",
       "</table>\n"
      ],
      "text/latex": [
       "\\begin{tabular}{r|llllllllllllllllllll}\n",
       " X & realSum & room\\_type & room\\_shared & room\\_private & person\\_capacity & host\\_is\\_superhost & multi & biz & cleanliness\\_rating & guest\\_satisfaction\\_overall & bedrooms & dist & metro\\_dist & attr\\_index & attr\\_index\\_norm & rest\\_index & rest\\_index\\_norm & lng & lat\\\\\n",
       "\\hline\n",
       "\t 0            & 194.0337     & Private room & False        & True         & 2            & False        & 1            & 0            & 10           &  93          & 1            & 5.0229638    & 2.5393800    &  78.69038    &  4.166708    &  98.25390    &  6.846473    & 4.90569      & 52.41772    \\\\\n",
       "\t 1            & 344.2458     & Private room & False        & True         & 4            & False        & 0            & 0            &  8           &  85          & 1            & 0.4883893    & 0.2394039    & 631.17638    & 33.421209    & 837.28076    & 58.342928    & 4.90005      & 52.37432    \\\\\n",
       "\t 2            & 264.1014     & Private room & False        & True         & 2            & False        & 0            & 1            &  9           &  87          & 1            & 5.7483119    & 3.6516213    &  75.27588    &  3.985908    &  95.38695    &  6.646700    & 4.97512      & 52.36103    \\\\\n",
       "\t 3            & 433.5294     & Private room & False        & True         & 4            & False        & 0            & 1            &  9           &  90          & 2            & 0.3848620    & 0.4398761    & 493.27253    & 26.119108    & 875.03310    & 60.973565    & 4.89417      & 52.37663    \\\\\n",
       "\t 4            & 485.5529     & Private room & False        & True         & 2            & True         & 0            & 0            & 10           &  98          & 1            & 0.5447382    & 0.3186926    & 552.83032    & 29.272733    & 815.30574    & 56.811677    & 4.90051      & 52.37508    \\\\\n",
       "\t 5            & 552.8086     & Private room & False        & True         & 3            & False        & 0            & 0            &  8           & 100          & 2            & 2.1314201    & 1.9046682    & 174.78896    &  9.255191    & 225.20166    & 15.692376    & 4.87699      & 52.38966    \\\\\n",
       "\\end{tabular}\n"
      ],
      "text/markdown": [
       "\n",
       "X | realSum | room_type | room_shared | room_private | person_capacity | host_is_superhost | multi | biz | cleanliness_rating | guest_satisfaction_overall | bedrooms | dist | metro_dist | attr_index | attr_index_norm | rest_index | rest_index_norm | lng | lat | \n",
       "|---|---|---|---|---|---|\n",
       "| 0            | 194.0337     | Private room | False        | True         | 2            | False        | 1            | 0            | 10           |  93          | 1            | 5.0229638    | 2.5393800    |  78.69038    |  4.166708    |  98.25390    |  6.846473    | 4.90569      | 52.41772     | \n",
       "| 1            | 344.2458     | Private room | False        | True         | 4            | False        | 0            | 0            |  8           |  85          | 1            | 0.4883893    | 0.2394039    | 631.17638    | 33.421209    | 837.28076    | 58.342928    | 4.90005      | 52.37432     | \n",
       "| 2            | 264.1014     | Private room | False        | True         | 2            | False        | 0            | 1            |  9           |  87          | 1            | 5.7483119    | 3.6516213    |  75.27588    |  3.985908    |  95.38695    |  6.646700    | 4.97512      | 52.36103     | \n",
       "| 3            | 433.5294     | Private room | False        | True         | 4            | False        | 0            | 1            |  9           |  90          | 2            | 0.3848620    | 0.4398761    | 493.27253    | 26.119108    | 875.03310    | 60.973565    | 4.89417      | 52.37663     | \n",
       "| 4            | 485.5529     | Private room | False        | True         | 2            | True         | 0            | 0            | 10           |  98          | 1            | 0.5447382    | 0.3186926    | 552.83032    | 29.272733    | 815.30574    | 56.811677    | 4.90051      | 52.37508     | \n",
       "| 5            | 552.8086     | Private room | False        | True         | 3            | False        | 0            | 0            |  8           | 100          | 2            | 2.1314201    | 1.9046682    | 174.78896    |  9.255191    | 225.20166    | 15.692376    | 4.87699      | 52.38966     | \n",
       "\n",
       "\n"
      ],
      "text/plain": [
       "  X realSum  room_type    room_shared room_private person_capacity\n",
       "1 0 194.0337 Private room False       True         2              \n",
       "2 1 344.2458 Private room False       True         4              \n",
       "3 2 264.1014 Private room False       True         2              \n",
       "4 3 433.5294 Private room False       True         4              \n",
       "5 4 485.5529 Private room False       True         2              \n",
       "6 5 552.8086 Private room False       True         3              \n",
       "  host_is_superhost multi biz cleanliness_rating guest_satisfaction_overall\n",
       "1 False             1     0   10                  93                       \n",
       "2 False             0     0    8                  85                       \n",
       "3 False             0     1    9                  87                       \n",
       "4 False             0     1    9                  90                       \n",
       "5 True              0     0   10                  98                       \n",
       "6 False             0     0    8                 100                       \n",
       "  bedrooms dist      metro_dist attr_index attr_index_norm rest_index\n",
       "1 1        5.0229638 2.5393800   78.69038   4.166708        98.25390 \n",
       "2 1        0.4883893 0.2394039  631.17638  33.421209       837.28076 \n",
       "3 1        5.7483119 3.6516213   75.27588   3.985908        95.38695 \n",
       "4 2        0.3848620 0.4398761  493.27253  26.119108       875.03310 \n",
       "5 1        0.5447382 0.3186926  552.83032  29.272733       815.30574 \n",
       "6 2        2.1314201 1.9046682  174.78896   9.255191       225.20166 \n",
       "  rest_index_norm lng     lat     \n",
       "1  6.846473       4.90569 52.41772\n",
       "2 58.342928       4.90005 52.37432\n",
       "3  6.646700       4.97512 52.36103\n",
       "4 60.973565       4.89417 52.37663\n",
       "5 56.811677       4.90051 52.37508\n",
       "6 15.692376       4.87699 52.38966"
      ]
     },
     "metadata": {},
     "output_type": "display_data"
    },
    {
     "name": "stdout",
     "output_type": "stream",
     "text": [
      "'data.frame':\t1103 obs. of  20 variables:\n",
      " $ X                         : int  0 1 2 3 4 5 6 7 8 9 ...\n",
      " $ realSum                   : num  194 344 264 434 486 ...\n",
      " $ room_type                 : chr  \"Private room\" \"Private room\" \"Private room\" \"Private room\" ...\n",
      " $ room_shared               : chr  \"False\" \"False\" \"False\" \"False\" ...\n",
      " $ room_private              : chr  \"True\" \"True\" \"True\" \"True\" ...\n",
      " $ person_capacity           : num  2 4 2 4 2 3 2 4 4 2 ...\n",
      " $ host_is_superhost         : chr  \"False\" \"False\" \"False\" \"False\" ...\n",
      " $ multi                     : int  1 0 0 0 0 0 0 0 0 1 ...\n",
      " $ biz                       : int  0 0 1 1 0 0 0 0 0 0 ...\n",
      " $ cleanliness_rating        : num  10 8 9 9 10 8 10 10 9 10 ...\n",
      " $ guest_satisfaction_overall: num  93 85 87 90 98 100 94 100 96 88 ...\n",
      " $ bedrooms                  : int  1 1 1 2 1 2 1 3 2 1 ...\n",
      " $ dist                      : num  5.023 0.488 5.748 0.385 0.545 ...\n",
      " $ metro_dist                : num  2.539 0.239 3.652 0.44 0.319 ...\n",
      " $ attr_index                : num  78.7 631.2 75.3 493.3 552.8 ...\n",
      " $ attr_index_norm           : num  4.17 33.42 3.99 26.12 29.27 ...\n",
      " $ rest_index                : num  98.3 837.3 95.4 875 815.3 ...\n",
      " $ rest_index_norm           : num  6.85 58.34 6.65 60.97 56.81 ...\n",
      " $ lng                       : num  4.91 4.9 4.98 4.89 4.9 ...\n",
      " $ lat                       : num  52.4 52.4 52.4 52.4 52.4 ...\n"
     ]
    }
   ],
   "source": [
    "amsterdam <- data_list[[\"amsterdam_weekdays.csv\"]]\n",
    "head(amsterdam) \n",
    "# str(amsterdam)"
   ]
  },
  {
   "cell_type": "code",
   "execution_count": null,
   "id": "fc8b7cc1",
   "metadata": {
    "vscode": {
     "languageId": "r"
    }
   },
   "outputs": [],
   "source": []
  }
 ],
 "metadata": {
  "kernelspec": {
   "display_name": "R",
   "language": "R",
   "name": "ir"
  },
  "language_info": {
   "codemirror_mode": "r",
   "file_extension": ".r",
   "mimetype": "text/x-r-source",
   "name": "R",
   "pygments_lexer": "r",
   "version": "3.5.1"
  }
 },
 "nbformat": 4,
 "nbformat_minor": 5
}
